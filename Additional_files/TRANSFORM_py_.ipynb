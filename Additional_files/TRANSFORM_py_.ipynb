{
 "cells": [
  {
   "cell_type": "markdown",
   "metadata": {
    "deletable": true,
    "editable": true
   },
   "source": [
    "# Part 1: Transform cascade from SBML 2 NEURON"
   ]
  },
  {
   "cell_type": "markdown",
   "metadata": {
    "deletable": true,
    "editable": true
   },
   "source": [
    "Import pyneuroml"
   ]
  },
  {
   "cell_type": "code",
   "execution_count": 1,
   "metadata": {
    "collapsed": true,
    "deletable": true,
    "editable": true
   },
   "outputs": [],
   "source": [
    "from pyneuroml import pynml"
   ]
  },
  {
   "cell_type": "markdown",
   "metadata": {
    "deletable": true,
    "editable": true
   },
   "source": [
    "Define file name (here we use MODEL_speedy_reduced2.xml) and set required parameters"
   ]
  },
  {
   "cell_type": "code",
   "execution_count": 2,
   "metadata": {
    "collapsed": true,
    "deletable": true,
    "editable": true
   },
   "outputs": [],
   "source": [
    "SBML_file_name = 'MODEL_speedy_reduced2.xml'\n",
    "dur            = 1                 # ms, needed argument in neuroML. Does not change anything in the cascade.\n",
    "dt             = 1                 # ms, needed argument in neuroML. Does not change anything in the cascade."
   ]
  },
  {
   "cell_type": "markdown",
   "metadata": {
    "deletable": true,
    "editable": true
   },
   "source": [
    "## IMPORT the SBML file using jneuroml."
   ]
  },
  {
   "cell_type": "markdown",
   "metadata": {
    "deletable": true,
    "editable": true
   },
   "source": [
    "This will create a new LEMS file named MODEL_speedy_reduced2_LEMS.xml (or similar if other file name is used) in the same directory"
   ]
  },
  {
   "cell_type": "code",
   "execution_count": 3,
   "metadata": {
    "collapsed": false,
    "deletable": true,
    "editable": true
   },
   "outputs": [
    {
     "data": {
      "text/plain": [
       "True"
      ]
     },
     "execution_count": 3,
     "metadata": {},
     "output_type": "execute_result"
    }
   ],
   "source": [
    "pynml.run_jneuroml('-sbml-import', SBML_file_name, ' '.join([str(dur), str(dt)]) )"
   ]
  },
  {
   "cell_type": "markdown",
   "metadata": {
    "deletable": true,
    "editable": true
   },
   "source": [
    "## EXPORT the LEMS file into a NEURON readable .mod file."
   ]
  },
  {
   "cell_type": "markdown",
   "metadata": {
    "deletable": true,
    "editable": true
   },
   "source": [
    "This will create a .mod file in the same directory. <br>\n",
    "The ID of the parent node in the xml file will be used as name of the mechanism."
   ]
  },
  {
   "cell_type": "code",
   "execution_count": 4,
   "metadata": {
    "collapsed": false,
    "deletable": true,
    "editable": true
   },
   "outputs": [
    {
     "data": {
      "text/plain": [
       "True"
      ]
     },
     "execution_count": 4,
     "metadata": {},
     "output_type": "execute_result"
    }
   ],
   "source": [
    "base, extention = SBML_file_name.split('.')         #will not work if file name has more than one dot...\n",
    "LEMS_file_name  = base + '_LEMS.' + extention\n",
    "\n",
    "pynml.run_jneuroml('', LEMS_file_name, '-neuron')"
   ]
  },
  {
   "cell_type": "markdown",
   "metadata": {
    "deletable": true,
    "editable": true
   },
   "source": [
    "## CLEAN the .mod file"
   ]
  },
  {
   "cell_type": "markdown",
   "metadata": {
    "deletable": true,
    "editable": true
   },
   "source": [
    "The resulting .mod file will use the IDs of the substrate from the SBML file, instead of the names. <br>\n",
    "This makes it very hard to read (impossible if the file is large). <br>\n",
    "\n",
    "We therefore mapp all IDs to their respective names from the original file. <br>\n",
    "We also shorten some file names to avoide errors due to long file names (e.g. reversible_reaction -> r_r)\n",
    "\n",
    "It is likely that this will have to be custom made for each SBML file \n",
    "&nbsp; \n",
    "\n",
    "\n"
   ]
  },
  {
   "cell_type": "code",
   "execution_count": 5,
   "metadata": {
    "collapsed": true,
    "deletable": true,
    "editable": true
   },
   "outputs": [],
   "source": [
    "# Import lxml for parsing the SBML file\n",
    "from lxml import etree"
   ]
  },
  {
   "cell_type": "markdown",
   "metadata": {
    "deletable": true,
    "editable": true
   },
   "source": [
    "READ in the tree from the SBML file"
   ]
  },
  {
   "cell_type": "code",
   "execution_count": 6,
   "metadata": {
    "collapsed": true,
    "deletable": true,
    "editable": true
   },
   "outputs": [],
   "source": [
    "tree = etree.parse(SBML_file_name)\n",
    "root = tree.getroot()"
   ]
  },
  {
   "cell_type": "markdown",
   "metadata": {
    "deletable": true,
    "editable": true
   },
   "source": [
    "EXTRACT name and id from the SBML file and EXCHANGE id for name"
   ]
  },
  {
   "cell_type": "code",
   "execution_count": 7,
   "metadata": {
    "collapsed": false,
    "deletable": true,
    "editable": true
   },
   "outputs": [],
   "source": [
    "# open the .mod file resulting from the above cells (different depending on SBML file)\n",
    "mod_file_name = 'D1_LTP_time_window_0.mod'\n",
    "mod_file      = open(mod_file_name, 'r')\n",
    "mod_file_data = mod_file.read() \n",
    "\n",
    "# close file\n",
    "mod_file.close()\n",
    "\n",
    "# get all species and parameter tags as well as the compartment tag (spine)\n",
    "species     =  root.xpath(\"//*[local-name() = 'species']\")\n",
    "parameters  =  root.xpath(\"//*[local-name() = 'parameter']\")\n",
    "compartment =  root.xpath(\"//*[local-name() = 'compartment']\")\n",
    "\n",
    "for spc in species+parameters+compartment:\n",
    "    \n",
    "    # get name and id from tag\n",
    "    name = spc.attrib['name']\n",
    "    ID   = spc.attrib['id'  ]\n",
    "    \n",
    "    # replace non allowed characters in NEURON ('*' -> '_')\n",
    "    name = name.replace('*', '_')\n",
    "    \n",
    "    # change id for name (if name is a single word)\n",
    "    L = name.split(' ')\n",
    "    \n",
    "    if len(L) == 1:\n",
    "        mod_file_data = mod_file_data.replace(ID, name)\n",
    "        \n",
    "# exchange rate__revreaction and rate__irrevreaction with rate_r and rate_ir\n",
    "mod_file_data = mod_file_data.replace('rate__revreaction', 'rate_r')\n",
    "mod_file_data = mod_file_data.replace('rate__irrevreaction', 'rate_ir')\n",
    "\n",
    "# update comment\n",
    "org_com = '''This NEURON file has been generated by org.neuroml.export (see https://github.com/NeuroML/org.neuroml.export)\n",
    "         org.neuroml.export  v1.5.3\n",
    "         org.neuroml.model   v1.5.3\n",
    "         jLEMS               v0.9.9.0'''\n",
    "\n",
    "upd_com = '''reduced speedy cascade. Connects DA conc to an excitable target (by phosphorylation)\n",
    "    - automatic version created using the jupyter notebook \"TRANSFORM_py_.ipynb\" \n",
    "    \n",
    "    - original cascade implemented and exported to SBML by Anu Nair; nair at kth . se\n",
    "        based on published cascade in Nair et al., 2016 with removed dependencies and\n",
    "        addition of excitable target.\n",
    "    \n",
    "    - transformation from SBML to mod by Robert Lindroos; robert . lindroos at ki . se\n",
    "        and Daniel Keller; daniel . keller at epfl . ch\n",
    "        using pyNeuroML.\n",
    "        This mod file was further \"cleaned\" after pyNeuroML conversion:\n",
    "            ~ IDs were exchanged for names\n",
    "            ~ rate_revreaction   -> rate_r\n",
    "            ~ rate_irrevreaction -> rate_ir \n",
    "            ~ '*'                -> '_'       (since not allowed by NEURON)\n",
    "\n",
    "    This NEURON file has been generated by org.neuroml.export (see https://github.com/NeuroML/org.neuroml.export)\n",
    "         org.neuroml.export  v1.5.3\n",
    "         org.neuroml.model   v1.5.3\n",
    "         jLEMS               v0.9.9.0'''\n",
    "\n",
    "mod_file_data = mod_file_data.replace(org_com, upd_com)\n",
    "\n",
    "# save cleaned data as test_cascade.mod\n",
    "out_file = open('test_cascade.mod', 'w')\n",
    "out_file.write(mod_file_data)\n",
    "out_file.close()"
   ]
  },
  {
   "cell_type": "markdown",
   "metadata": {
    "deletable": true,
    "editable": true
   },
   "source": [
    "CLEAN up directory (remove additional files created in the transformation)"
   ]
  },
  {
   "cell_type": "code",
   "execution_count": 8,
   "metadata": {
    "collapsed": true,
    "deletable": true,
    "editable": true
   },
   "outputs": [],
   "source": [
    "rm D1_LTP_time_window_0.mod MODEL_speedy_reduced2_LEMS*"
   ]
  },
  {
   "cell_type": "markdown",
   "metadata": {
    "deletable": true,
    "editable": true
   },
   "source": [
    "## compile NEURON mechanisms"
   ]
  },
  {
   "cell_type": "code",
   "execution_count": 9,
   "metadata": {
    "collapsed": false,
    "deletable": true,
    "editable": true
   },
   "outputs": [
    {
     "name": "stdout",
     "output_type": "stream",
     "text": [
      "Creating x86_64 directory for .o files.\n",
      "\n",
      "/home/HDD-drive/Desktop/Notebook\n",
      "ampa.mod bk.mod cadyn.mod cal12.mod cal13.mod caldyn.mod can.mod caq.mod car.mod cat32.mod cat33.mod cav32.mod cav33.mod gaba.mod kaf.mod kas.mod kdr.mod kir.mod naf.mod nmda.mod sk.mod test_cascade.mod tmgabaa.mod tmglut.mod\n",
      "ampa.mod bk.mod cadyn.mod cal12.mod cal13.mod caldyn.mod can.mod caq.mod car.mod cat32.mod cat33.mod cav32.mod cav33.mod gaba.mod kaf.mod kas.mod kdr.mod kir.mod naf.mod nmda.mod sk.mod test_cascade.mod tmgabaa.mod tmglut.mod\n",
      "\"/home/HDD-drive/neuron/nrn/x86_64/bin/nocmodl\" ampa\n",
      "Translating ampa.mod into ampa.c\n",
      "Thread Safe\n",
      "\"/home/HDD-drive/neuron/nrn/share/nrn/libtool\" --tag=CC --mode=compile mpicc -DHAVE_CONFIG_H  -I. -I.. -I\"/home/HDD-drive/neuron/nrn/include/nrn\" -I\"/home/HDD-drive/neuron/nrn/x86_64/lib\"      -g -O2 -c -o ampa.lo ampa.c\n",
      "libtool: compile:  mpicc -DHAVE_CONFIG_H -I. -I.. -I/home/HDD-drive/neuron/nrn/include/nrn -I/home/HDD-drive/neuron/nrn/x86_64/lib -g -O2 -c ampa.c  -fPIC -DPIC -o .libs/ampa.o\n",
      "\"/home/HDD-drive/neuron/nrn/x86_64/bin/nocmodl\" bk\n",
      "Translating bk.mod into bk.c\n",
      "Thread Safe\n",
      "\"/home/HDD-drive/neuron/nrn/share/nrn/libtool\" --tag=CC --mode=compile mpicc -DHAVE_CONFIG_H  -I. -I.. -I\"/home/HDD-drive/neuron/nrn/include/nrn\" -I\"/home/HDD-drive/neuron/nrn/x86_64/lib\"      -g -O2 -c -o bk.lo bk.c\n",
      "libtool: compile:  mpicc -DHAVE_CONFIG_H -I. -I.. -I/home/HDD-drive/neuron/nrn/include/nrn -I/home/HDD-drive/neuron/nrn/x86_64/lib -g -O2 -c bk.c  -fPIC -DPIC -o .libs/bk.o\n",
      "\"/home/HDD-drive/neuron/nrn/x86_64/bin/nocmodl\" cadyn\n",
      "Translating cadyn.mod into cadyn.c\n",
      "Thread Safe\n",
      "\"/home/HDD-drive/neuron/nrn/share/nrn/libtool\" --tag=CC --mode=compile mpicc -DHAVE_CONFIG_H  -I. -I.. -I\"/home/HDD-drive/neuron/nrn/include/nrn\" -I\"/home/HDD-drive/neuron/nrn/x86_64/lib\"      -g -O2 -c -o cadyn.lo cadyn.c\n",
      "libtool: compile:  mpicc -DHAVE_CONFIG_H -I. -I.. -I/home/HDD-drive/neuron/nrn/include/nrn -I/home/HDD-drive/neuron/nrn/x86_64/lib -g -O2 -c cadyn.c  -fPIC -DPIC -o .libs/cadyn.o\n",
      "\"/home/HDD-drive/neuron/nrn/x86_64/bin/nocmodl\" cal12\n",
      "Translating cal12.mod into cal12.c\n",
      "Thread Safe\n",
      "\"/home/HDD-drive/neuron/nrn/share/nrn/libtool\" --tag=CC --mode=compile mpicc -DHAVE_CONFIG_H  -I. -I.. -I\"/home/HDD-drive/neuron/nrn/include/nrn\" -I\"/home/HDD-drive/neuron/nrn/x86_64/lib\"      -g -O2 -c -o cal12.lo cal12.c\n",
      "libtool: compile:  mpicc -DHAVE_CONFIG_H -I. -I.. -I/home/HDD-drive/neuron/nrn/include/nrn -I/home/HDD-drive/neuron/nrn/x86_64/lib -g -O2 -c cal12.c  -fPIC -DPIC -o .libs/cal12.o\n",
      "\"/home/HDD-drive/neuron/nrn/x86_64/bin/nocmodl\" cal13\n",
      "Translating cal13.mod into cal13.c\n",
      "Thread Safe\n",
      "\"/home/HDD-drive/neuron/nrn/share/nrn/libtool\" --tag=CC --mode=compile mpicc -DHAVE_CONFIG_H  -I. -I.. -I\"/home/HDD-drive/neuron/nrn/include/nrn\" -I\"/home/HDD-drive/neuron/nrn/x86_64/lib\"      -g -O2 -c -o cal13.lo cal13.c\n",
      "libtool: compile:  mpicc -DHAVE_CONFIG_H -I. -I.. -I/home/HDD-drive/neuron/nrn/include/nrn -I/home/HDD-drive/neuron/nrn/x86_64/lib -g -O2 -c cal13.c  -fPIC -DPIC -o .libs/cal13.o\n",
      "\"/home/HDD-drive/neuron/nrn/x86_64/bin/nocmodl\" caldyn\n",
      "Translating caldyn.mod into caldyn.c\n",
      "Thread Safe\n",
      "\"/home/HDD-drive/neuron/nrn/share/nrn/libtool\" --tag=CC --mode=compile mpicc -DHAVE_CONFIG_H  -I. -I.. -I\"/home/HDD-drive/neuron/nrn/include/nrn\" -I\"/home/HDD-drive/neuron/nrn/x86_64/lib\"      -g -O2 -c -o caldyn.lo caldyn.c\n",
      "libtool: compile:  mpicc -DHAVE_CONFIG_H -I. -I.. -I/home/HDD-drive/neuron/nrn/include/nrn -I/home/HDD-drive/neuron/nrn/x86_64/lib -g -O2 -c caldyn.c  -fPIC -DPIC -o .libs/caldyn.o\n",
      "\"/home/HDD-drive/neuron/nrn/x86_64/bin/nocmodl\" can\n",
      "Translating can.mod into can.c\n",
      "Thread Safe\n",
      "\"/home/HDD-drive/neuron/nrn/share/nrn/libtool\" --tag=CC --mode=compile mpicc -DHAVE_CONFIG_H  -I. -I.. -I\"/home/HDD-drive/neuron/nrn/include/nrn\" -I\"/home/HDD-drive/neuron/nrn/x86_64/lib\"      -g -O2 -c -o can.lo can.c\n",
      "libtool: compile:  mpicc -DHAVE_CONFIG_H -I. -I.. -I/home/HDD-drive/neuron/nrn/include/nrn -I/home/HDD-drive/neuron/nrn/x86_64/lib -g -O2 -c can.c  -fPIC -DPIC -o .libs/can.o\n",
      "\"/home/HDD-drive/neuron/nrn/x86_64/bin/nocmodl\" caq\n",
      "Translating caq.mod into caq.c\n",
      "Thread Safe\n",
      "\"/home/HDD-drive/neuron/nrn/share/nrn/libtool\" --tag=CC --mode=compile mpicc -DHAVE_CONFIG_H  -I. -I.. -I\"/home/HDD-drive/neuron/nrn/include/nrn\" -I\"/home/HDD-drive/neuron/nrn/x86_64/lib\"      -g -O2 -c -o caq.lo caq.c\n",
      "libtool: compile:  mpicc -DHAVE_CONFIG_H -I. -I.. -I/home/HDD-drive/neuron/nrn/include/nrn -I/home/HDD-drive/neuron/nrn/x86_64/lib -g -O2 -c caq.c  -fPIC -DPIC -o .libs/caq.o\n",
      "\"/home/HDD-drive/neuron/nrn/x86_64/bin/nocmodl\" car\n",
      "Translating car.mod into car.c\n",
      "Thread Safe\n",
      "\"/home/HDD-drive/neuron/nrn/share/nrn/libtool\" --tag=CC --mode=compile mpicc -DHAVE_CONFIG_H  -I. -I.. -I\"/home/HDD-drive/neuron/nrn/include/nrn\" -I\"/home/HDD-drive/neuron/nrn/x86_64/lib\"      -g -O2 -c -o car.lo car.c\n",
      "libtool: compile:  mpicc -DHAVE_CONFIG_H -I. -I.. -I/home/HDD-drive/neuron/nrn/include/nrn -I/home/HDD-drive/neuron/nrn/x86_64/lib -g -O2 -c car.c  -fPIC -DPIC -o .libs/car.o\n",
      "\"/home/HDD-drive/neuron/nrn/x86_64/bin/nocmodl\" cat32\n",
      "Translating cat32.mod into cat32.c\n",
      "Thread Safe\n",
      "\"/home/HDD-drive/neuron/nrn/share/nrn/libtool\" --tag=CC --mode=compile mpicc -DHAVE_CONFIG_H  -I. -I.. -I\"/home/HDD-drive/neuron/nrn/include/nrn\" -I\"/home/HDD-drive/neuron/nrn/x86_64/lib\"      -g -O2 -c -o cat32.lo cat32.c\n",
      "libtool: compile:  mpicc -DHAVE_CONFIG_H -I. -I.. -I/home/HDD-drive/neuron/nrn/include/nrn -I/home/HDD-drive/neuron/nrn/x86_64/lib -g -O2 -c cat32.c  -fPIC -DPIC -o .libs/cat32.o\n",
      "\"/home/HDD-drive/neuron/nrn/x86_64/bin/nocmodl\" cat33\n",
      "Translating cat33.mod into cat33.c\n",
      "Thread Safe\n",
      "\"/home/HDD-drive/neuron/nrn/share/nrn/libtool\" --tag=CC --mode=compile mpicc -DHAVE_CONFIG_H  -I. -I.. -I\"/home/HDD-drive/neuron/nrn/include/nrn\" -I\"/home/HDD-drive/neuron/nrn/x86_64/lib\"      -g -O2 -c -o cat33.lo cat33.c\n",
      "libtool: compile:  mpicc -DHAVE_CONFIG_H -I. -I.. -I/home/HDD-drive/neuron/nrn/include/nrn -I/home/HDD-drive/neuron/nrn/x86_64/lib -g -O2 -c cat33.c  -fPIC -DPIC -o .libs/cat33.o\n",
      "\"/home/HDD-drive/neuron/nrn/x86_64/bin/nocmodl\" cav32\n",
      "Translating cav32.mod into cav32.c\n",
      "Thread Safe\n",
      "\"/home/HDD-drive/neuron/nrn/share/nrn/libtool\" --tag=CC --mode=compile mpicc -DHAVE_CONFIG_H  -I. -I.. -I\"/home/HDD-drive/neuron/nrn/include/nrn\" -I\"/home/HDD-drive/neuron/nrn/x86_64/lib\"      -g -O2 -c -o cav32.lo cav32.c\n",
      "libtool: compile:  mpicc -DHAVE_CONFIG_H -I. -I.. -I/home/HDD-drive/neuron/nrn/include/nrn -I/home/HDD-drive/neuron/nrn/x86_64/lib -g -O2 -c cav32.c  -fPIC -DPIC -o .libs/cav32.o\n",
      "\"/home/HDD-drive/neuron/nrn/x86_64/bin/nocmodl\" cav33\n",
      "Translating cav33.mod into cav33.c\n",
      "Thread Safe\n",
      "\"/home/HDD-drive/neuron/nrn/share/nrn/libtool\" --tag=CC --mode=compile mpicc -DHAVE_CONFIG_H  -I. -I.. -I\"/home/HDD-drive/neuron/nrn/include/nrn\" -I\"/home/HDD-drive/neuron/nrn/x86_64/lib\"      -g -O2 -c -o cav33.lo cav33.c\n",
      "libtool: compile:  mpicc -DHAVE_CONFIG_H -I. -I.. -I/home/HDD-drive/neuron/nrn/include/nrn -I/home/HDD-drive/neuron/nrn/x86_64/lib -g -O2 -c cav33.c  -fPIC -DPIC -o .libs/cav33.o\n",
      "\"/home/HDD-drive/neuron/nrn/x86_64/bin/nocmodl\" gaba\n",
      "Translating gaba.mod into gaba.c\n",
      "Thread Safe\n",
      "\"/home/HDD-drive/neuron/nrn/share/nrn/libtool\" --tag=CC --mode=compile mpicc -DHAVE_CONFIG_H  -I. -I.. -I\"/home/HDD-drive/neuron/nrn/include/nrn\" -I\"/home/HDD-drive/neuron/nrn/x86_64/lib\"      -g -O2 -c -o gaba.lo gaba.c\n",
      "libtool: compile:  mpicc -DHAVE_CONFIG_H -I. -I.. -I/home/HDD-drive/neuron/nrn/include/nrn -I/home/HDD-drive/neuron/nrn/x86_64/lib -g -O2 -c gaba.c  -fPIC -DPIC -o .libs/gaba.o\n",
      "\"/home/HDD-drive/neuron/nrn/x86_64/bin/nocmodl\" kaf\n",
      "Translating kaf.mod into kaf.c\n",
      "Thread Safe\n",
      "\"/home/HDD-drive/neuron/nrn/share/nrn/libtool\" --tag=CC --mode=compile mpicc -DHAVE_CONFIG_H  -I. -I.. -I\"/home/HDD-drive/neuron/nrn/include/nrn\" -I\"/home/HDD-drive/neuron/nrn/x86_64/lib\"      -g -O2 -c -o kaf.lo kaf.c\n",
      "libtool: compile:  mpicc -DHAVE_CONFIG_H -I. -I.. -I/home/HDD-drive/neuron/nrn/include/nrn -I/home/HDD-drive/neuron/nrn/x86_64/lib -g -O2 -c kaf.c  -fPIC -DPIC -o .libs/kaf.o\n",
      "\"/home/HDD-drive/neuron/nrn/x86_64/bin/nocmodl\" kas\n",
      "Translating kas.mod into kas.c\n",
      "Thread Safe\n",
      "\"/home/HDD-drive/neuron/nrn/share/nrn/libtool\" --tag=CC --mode=compile mpicc -DHAVE_CONFIG_H  -I. -I.. -I\"/home/HDD-drive/neuron/nrn/include/nrn\" -I\"/home/HDD-drive/neuron/nrn/x86_64/lib\"      -g -O2 -c -o kas.lo kas.c\n",
      "libtool: compile:  mpicc -DHAVE_CONFIG_H -I. -I.. -I/home/HDD-drive/neuron/nrn/include/nrn -I/home/HDD-drive/neuron/nrn/x86_64/lib -g -O2 -c kas.c  -fPIC -DPIC -o .libs/kas.o\n",
      "\"/home/HDD-drive/neuron/nrn/x86_64/bin/nocmodl\" kdr\n",
      "Translating kdr.mod into kdr.c\n",
      "Thread Safe\n",
      "\"/home/HDD-drive/neuron/nrn/share/nrn/libtool\" --tag=CC --mode=compile mpicc -DHAVE_CONFIG_H  -I. -I.. -I\"/home/HDD-drive/neuron/nrn/include/nrn\" -I\"/home/HDD-drive/neuron/nrn/x86_64/lib\"      -g -O2 -c -o kdr.lo kdr.c\n",
      "libtool: compile:  mpicc -DHAVE_CONFIG_H -I. -I.. -I/home/HDD-drive/neuron/nrn/include/nrn -I/home/HDD-drive/neuron/nrn/x86_64/lib -g -O2 -c kdr.c  -fPIC -DPIC -o .libs/kdr.o\n",
      "\"/home/HDD-drive/neuron/nrn/x86_64/bin/nocmodl\" kir\n",
      "Translating kir.mod into kir.c\n",
      "Thread Safe\n",
      "\"/home/HDD-drive/neuron/nrn/share/nrn/libtool\" --tag=CC --mode=compile mpicc -DHAVE_CONFIG_H  -I. -I.. -I\"/home/HDD-drive/neuron/nrn/include/nrn\" -I\"/home/HDD-drive/neuron/nrn/x86_64/lib\"      -g -O2 -c -o kir.lo kir.c\n",
      "libtool: compile:  mpicc -DHAVE_CONFIG_H -I. -I.. -I/home/HDD-drive/neuron/nrn/include/nrn -I/home/HDD-drive/neuron/nrn/x86_64/lib -g -O2 -c kir.c  -fPIC -DPIC -o .libs/kir.o\n",
      "\"/home/HDD-drive/neuron/nrn/x86_64/bin/nocmodl\" naf\n",
      "Translating naf.mod into naf.c\n",
      "Thread Safe\n",
      "\"/home/HDD-drive/neuron/nrn/share/nrn/libtool\" --tag=CC --mode=compile mpicc -DHAVE_CONFIG_H  -I. -I.. -I\"/home/HDD-drive/neuron/nrn/include/nrn\" -I\"/home/HDD-drive/neuron/nrn/x86_64/lib\"      -g -O2 -c -o naf.lo naf.c\n",
      "libtool: compile:  mpicc -DHAVE_CONFIG_H -I. -I.. -I/home/HDD-drive/neuron/nrn/include/nrn -I/home/HDD-drive/neuron/nrn/x86_64/lib -g -O2 -c naf.c  -fPIC -DPIC -o .libs/naf.o\n",
      "\"/home/HDD-drive/neuron/nrn/x86_64/bin/nocmodl\" nmda\n",
      "Translating nmda.mod into nmda.c\n",
      "Thread Safe\n",
      "\"/home/HDD-drive/neuron/nrn/share/nrn/libtool\" --tag=CC --mode=compile mpicc -DHAVE_CONFIG_H  -I. -I.. -I\"/home/HDD-drive/neuron/nrn/include/nrn\" -I\"/home/HDD-drive/neuron/nrn/x86_64/lib\"      -g -O2 -c -o nmda.lo nmda.c\n",
      "libtool: compile:  mpicc -DHAVE_CONFIG_H -I. -I.. -I/home/HDD-drive/neuron/nrn/include/nrn -I/home/HDD-drive/neuron/nrn/x86_64/lib -g -O2 -c nmda.c  -fPIC -DPIC -o .libs/nmda.o\n",
      "\"/home/HDD-drive/neuron/nrn/x86_64/bin/nocmodl\" sk\n",
      "Translating sk.mod into sk.c\n",
      "Thread Safe\n",
      "\"/home/HDD-drive/neuron/nrn/share/nrn/libtool\" --tag=CC --mode=compile mpicc -DHAVE_CONFIG_H  -I. -I.. -I\"/home/HDD-drive/neuron/nrn/include/nrn\" -I\"/home/HDD-drive/neuron/nrn/x86_64/lib\"      -g -O2 -c -o sk.lo sk.c\n",
      "libtool: compile:  mpicc -DHAVE_CONFIG_H -I. -I.. -I/home/HDD-drive/neuron/nrn/include/nrn -I/home/HDD-drive/neuron/nrn/x86_64/lib -g -O2 -c sk.c  -fPIC -DPIC -o .libs/sk.o\n",
      "\"/home/HDD-drive/neuron/nrn/x86_64/bin/nocmodl\" test_cascade\n",
      "Translating test_cascade.mod into test_cascade.c\n",
      "Thread Safe\n",
      "\"/home/HDD-drive/neuron/nrn/share/nrn/libtool\" --tag=CC --mode=compile mpicc -DHAVE_CONFIG_H  -I. -I.. -I\"/home/HDD-drive/neuron/nrn/include/nrn\" -I\"/home/HDD-drive/neuron/nrn/x86_64/lib\"      -g -O2 -c -o test_cascade.lo test_cascade.c\n",
      "libtool: compile:  mpicc -DHAVE_CONFIG_H -I. -I.. -I/home/HDD-drive/neuron/nrn/include/nrn -I/home/HDD-drive/neuron/nrn/x86_64/lib -g -O2 -c test_cascade.c  -fPIC -DPIC -o .libs/test_cascade.o\n",
      "\"/home/HDD-drive/neuron/nrn/x86_64/bin/nocmodl\" tmgabaa\n",
      "Translating tmgabaa.mod into tmgabaa.c\n",
      "Notice: Use of POINTER is not thread safe.\n",
      "\"/home/HDD-drive/neuron/nrn/share/nrn/libtool\" --tag=CC --mode=compile mpicc -DHAVE_CONFIG_H  -I. -I.. -I\"/home/HDD-drive/neuron/nrn/include/nrn\" -I\"/home/HDD-drive/neuron/nrn/x86_64/lib\"      -g -O2 -c -o tmgabaa.lo tmgabaa.c\n",
      "libtool: compile:  mpicc -DHAVE_CONFIG_H -I. -I.. -I/home/HDD-drive/neuron/nrn/include/nrn -I/home/HDD-drive/neuron/nrn/x86_64/lib -g -O2 -c tmgabaa.c  -fPIC -DPIC -o .libs/tmgabaa.o\n",
      "\"/home/HDD-drive/neuron/nrn/x86_64/bin/nocmodl\" tmglut\n",
      "Translating tmglut.mod into tmglut.c\n",
      "Thread Safe\n",
      "\"/home/HDD-drive/neuron/nrn/share/nrn/libtool\" --tag=CC --mode=compile mpicc -DHAVE_CONFIG_H  -I. -I.. -I\"/home/HDD-drive/neuron/nrn/include/nrn\" -I\"/home/HDD-drive/neuron/nrn/x86_64/lib\"      -g -O2 -c -o tmglut.lo tmglut.c\n",
      "libtool: compile:  mpicc -DHAVE_CONFIG_H -I. -I.. -I/home/HDD-drive/neuron/nrn/include/nrn -I/home/HDD-drive/neuron/nrn/x86_64/lib -g -O2 -c tmglut.c  -fPIC -DPIC -o .libs/tmglut.o\n",
      "\"/home/HDD-drive/neuron/nrn/share/nrn/libtool\" --tag=CC --mode=compile mpicc -DHAVE_CONFIG_H  -I. -I.. -I\"/home/HDD-drive/neuron/nrn/include/nrn\" -I\"/home/HDD-drive/neuron/nrn/x86_64/lib\"      -g -O2 -c -o mod_func.lo mod_func.c\n",
      "libtool: compile:  mpicc -DHAVE_CONFIG_H -I. -I.. -I/home/HDD-drive/neuron/nrn/include/nrn -I/home/HDD-drive/neuron/nrn/x86_64/lib -g -O2 -c mod_func.c  -fPIC -DPIC -o .libs/mod_func.o\n",
      "\"/home/HDD-drive/neuron/nrn/share/nrn/libtool\" --tag=CC --mode=link mpicc -module  -g -O2    -o libnrnmech.la -rpath \"/home/HDD-drive/neuron/nrn/x86_64/lib\"  ampa.lo bk.lo cadyn.lo cal12.lo cal13.lo caldyn.lo can.lo caq.lo car.lo cat32.lo cat33.lo cav32.lo cav33.lo gaba.lo kaf.lo kas.lo kdr.lo kir.lo naf.lo nmda.lo sk.lo test_cascade.lo tmgabaa.lo tmglut.lo mod_func.lo  -L\"/home/HDD-drive/neuron/nrn/x86_64/lib\" -lnrnoc -loc -lmemacs -lnrnmpi -lscopmath -lsparse13 -lreadline -lncurses -L\"/home/HDD-drive/neuron/nrn/x86_64/lib\" \"/home/HDD-drive/neuron/nrn/x86_64/lib/libnrniv.la\" -livoc -lneuron_gnu -lmeschach -lsundials       -lm -ldl\n",
      "libtool: link: mpicc -shared  -fPIC -DPIC  .libs/ampa.o .libs/bk.o .libs/cadyn.o .libs/cal12.o .libs/cal13.o .libs/caldyn.o .libs/can.o .libs/caq.o .libs/car.o .libs/cat32.o .libs/cat33.o .libs/cav32.o .libs/cav33.o .libs/gaba.o .libs/kaf.o .libs/kas.o .libs/kdr.o .libs/kir.o .libs/naf.o .libs/nmda.o .libs/sk.o .libs/test_cascade.o .libs/tmgabaa.o .libs/tmglut.o .libs/mod_func.o   -Wl,-rpath -Wl,/home/HDD-drive/neuron/nrn/x86_64/lib -Wl,-rpath -Wl,/home/HDD-drive/neuron/nrn/x86_64/lib -L/home/HDD-drive/neuron/nrn/x86_64/lib /home/HDD-drive/neuron/nrn/x86_64/lib/libnrnoc.so /home/HDD-drive/neuron/nrn/x86_64/lib/liboc.so /home/HDD-drive/neuron/nrn/x86_64/lib/libmemacs.so /home/HDD-drive/neuron/nrn/x86_64/lib/libnrnmpi.so /home/HDD-drive/neuron/nrn/x86_64/lib/libscopmath.so /home/HDD-drive/neuron/nrn/x86_64/lib/libsparse13.so /home/HDD-drive/neuron/nrn/x86_64/lib/libreadline.so -lncurses /home/HDD-drive/neuron/nrn/x86_64/lib/libnrniv.so /home/HDD-drive/neuron/nrn/x86_64/lib/libivoc.so /home/HDD-drive/neuron/nrn/x86_64/lib/libneuron_gnu.so /home/HDD-drive/neuron/nrn/x86_64/lib/libmeschach.so /home/HDD-drive/neuron/nrn/x86_64/lib/libsundials.so -lm -ldl  -O2   -Wl,-soname -Wl,libnrnmech.so.0 -o .libs/libnrnmech.so.0.0.0\n",
      "libtool: link: (cd \".libs\" && rm -f \"libnrnmech.so.0\" && ln -s \"libnrnmech.so.0.0.0\" \"libnrnmech.so.0\")\n",
      "libtool: link: (cd \".libs\" && rm -f \"libnrnmech.so\" && ln -s \"libnrnmech.so.0.0.0\" \"libnrnmech.so\")\n",
      "libtool: link: ( cd \".libs\" && rm -f \"libnrnmech.la\" && ln -s \"../libnrnmech.la\" \"libnrnmech.la\" )\n",
      "Successfully created x86_64/special\n"
     ]
    }
   ],
   "source": [
    "!nrnivmodl"
   ]
  },
  {
   "cell_type": "markdown",
   "metadata": {
    "deletable": true,
    "editable": true
   },
   "source": [
    "# Part 2; TEST the cascade in a model"
   ]
  },
  {
   "cell_type": "markdown",
   "metadata": {
    "deletable": true,
    "editable": true
   },
   "source": [
    "IMPORT libraries"
   ]
  },
  {
   "cell_type": "code",
   "execution_count": 10,
   "metadata": {
    "collapsed": true,
    "deletable": true,
    "editable": true
   },
   "outputs": [],
   "source": [
    "from __future__ import print_function, division\n",
    "import sys\n",
    "import json\n",
    "import numpy as np\n",
    "from neuron import h\n",
    "from math import exp\n",
    "from joblib import Parallel, delayed\n",
    "import multiprocessing\n",
    "import matplotlib.pyplot as plt"
   ]
  },
  {
   "cell_type": "markdown",
   "metadata": {
    "collapsed": true,
    "deletable": true,
    "editable": true
   },
   "source": [
    "define default default values for input files:\n",
    "\n",
    "TODO: these should preferably be added by the user/added here directly"
   ]
  },
  {
   "cell_type": "code",
   "execution_count": 11,
   "metadata": {
    "collapsed": false,
    "deletable": true,
    "editable": true
   },
   "outputs": [],
   "source": [
    "mod        = \"./mod/\"\n",
    "defparams  = \"./params-msn.json\"\n",
    "morphology = \"./morphology/\"\n",
    "\n",
    "h.nrn_load_dll(mod + 'x86_64/.libs/libnrnmech.so')\n",
    "h.load_file('stdlib.hoc')\n",
    "h.load_file('import3d.hoc')\n",
    "\n",
    "with open('./substrates.json') as file:\n",
    "    SUBSTRATES = json.load(file)"
   ]
  },
  {
   "cell_type": "markdown",
   "metadata": {
    "deletable": true,
    "editable": true
   },
   "source": [
    "## def functions"
   ]
  },
  {
   "cell_type": "code",
   "execution_count": 12,
   "metadata": {
    "collapsed": true,
    "deletable": true,
    "editable": true
   },
   "outputs": [],
   "source": [
    "#calculate_distribution(d3, dist, a4, a5, a6, a7, g8)\n",
    "def calculate_distribution(d3, dist, a4, a5, a6, a7, g8):\n",
    "    # d3 is the distribution type:\n",
    "    #     0 linear, 1 sigmoid, 2 exponential\n",
    "    #     3 step for absolute distance (in microns)\n",
    "    # dist is the somatic distance\n",
    "    # a4-7 is distribution parameters \n",
    "    # g8 is the maximal conductance\n",
    "    if   d3 == 0: \n",
    "        value = a4 + a5*dist\n",
    "    elif d3 == 1: \n",
    "        value = a4 + a5/(1 + exp((dist-a6)/a7) )\n",
    "    elif d3 == 2: \n",
    "        value = a4 + a5*exp((dist-a6)/a7)\n",
    "    elif d3 == 3:\n",
    "        if (dist > a6) and (dist < a7):\n",
    "            value = a4\n",
    "        else:\n",
    "            value = a5\n",
    "            \n",
    "    if value < 0:\n",
    "        value = 0\n",
    "        \n",
    "    value = value*g8\n",
    "    return value "
   ]
  },
  {
   "cell_type": "code",
   "execution_count": 13,
   "metadata": {
    "collapsed": true,
    "deletable": true,
    "editable": true
   },
   "outputs": [],
   "source": [
    "def alpha(tstart, gmax, tau):\n",
    "    '''calc and returns a \"magnitude\" using an alpha function''' \n",
    "    \n",
    "    v = 1 - (h.t - tstart) / tau\n",
    "    e = exp(v)\n",
    "    mag = gmax * (h.t - tstart) / tau * e\n",
    "    \n",
    "    return mag"
   ]
  },
  {
   "cell_type": "code",
   "execution_count": 14,
   "metadata": {
    "collapsed": true,
    "deletable": true,
    "editable": true
   },
   "outputs": [],
   "source": [
    "def calc_rand_Modulation(mod_list, range_list=False, distribution='centered'):\n",
    "    '''\n",
    "    calc random modulation values between 0 and 2 (i.e. max +/- 100%).\n",
    "    \n",
    "    Values close to 1 (no mod) are given higer probability.\n",
    "    this is achived by drawing two uniform random numbers between 0 and 1, and subtracts one from the other.\n",
    "    This gives values ranging from -1 to 1. By adding one we end upp at the wanted value.\n",
    "    \n",
    "    If a range_list is supplied the range of the values can be shifted from [0,2] to any\n",
    "    other range. The range list must have the same length as mod_list and hold lists of\n",
    "    [min, max] values.\n",
    "    \n",
    "    '''\n",
    "    \n",
    "    mod_factors = []\n",
    "    \n",
    "    A=0\n",
    "    B=2\n",
    "    \n",
    "    for i,channel in enumerate(mod_list):\n",
    "        \n",
    "        if distribution=='centered':\n",
    "            factor = 1.0 + ( np.random.uniform() - np.random.uniform() )\n",
    "        elif distribution=='inv_centered':\n",
    "            factor = 1.0 + ( np.random.uniform() - np.random.uniform() )\n",
    "            if factor <= 1:\n",
    "                factor = factor + 1.0\n",
    "            else:\n",
    "                factor = factor - 1.0\n",
    "        elif distribution=='uniform':\n",
    "            factor = 2.0 * np.random.uniform()\n",
    "        else:\n",
    "            print('Error in MF distribution--line ~121')\n",
    "            eegsjsd\n",
    "        \n",
    "        \n",
    "        if range_list:\n",
    "            \n",
    "            a       = range_list[i][0]\n",
    "            b       = range_list[i][1]\n",
    "            \n",
    "            factor = (b-a) / (B-A) * (factor-A) + a\n",
    "       \n",
    "        mod_factors.append(factor)\n",
    "        \n",
    "    return mod_factors "
   ]
  },
  {
   "cell_type": "code",
   "execution_count": 15,
   "metadata": {
    "collapsed": true,
    "deletable": true,
    "editable": true
   },
   "outputs": [],
   "source": [
    "def make_random_synapse(ns, nc, Syn, sec, x,               \\\n",
    "                Type='glut',                    \\\n",
    "                NS_start=1,                     \\\n",
    "                NS_interval=1000.0/18.0,        \\\n",
    "                NS_noise=1.0,                   \\\n",
    "                NS_number=1000,                 \\\n",
    "                S_AN_ratio=1.0,                 \\\n",
    "                S_tau_dep=100,                  \\\n",
    "                S_U=1,                          \\\n",
    "                S_e=-60,                        \\\n",
    "                S_tau1=0.25,                    \\\n",
    "                S_tau2=3.75,                    \\\n",
    "                NC_delay=1,                     \\\n",
    "                NC_conductance=0.6e-3,          \\\n",
    "                NC_threshold=0.1                ):\n",
    "    \n",
    "    \n",
    "    # create/set synapse in segment x of section\n",
    "    if Type == 'glut':\n",
    "        key                 = sec\n",
    "        Syn[key]            = h.tmGlut(x, sec=sec)\n",
    "        Syn[key].nmda_ratio = S_AN_ratio\n",
    "        Syn[key].tauR       = S_tau_dep\n",
    "        Syn[key].U          = S_U\n",
    "        \n",
    "    elif Type in ['expSyn2', 'tmgabaa', 'gaba']:\n",
    "        \n",
    "        key                 = sec.name() + '_gaba'\n",
    "        \n",
    "        if Type == 'expSyn2':\n",
    "            Syn[key]            = h.Exp2Syn(x, sec=sec)\n",
    "            Syn[key].tau1       = S_tau1\n",
    "            Syn[key].tau2       = S_tau2 \n",
    "        elif Type == 'tmgabaa':\n",
    "            Syn[key]            = h.tmGabaA(x, sec=sec)\n",
    "            \n",
    "        Syn[key].e          = S_e\n",
    "        \n",
    "         \n",
    "    # create NetStim object\n",
    "    ns[key]             = h.NetStim()\n",
    "    ns[key].start       = NS_start\n",
    "    ns[key].interval    = NS_interval # mean interval between two spikes in ms\n",
    "    ns[key].noise       = NS_noise\n",
    "    ns[key].number      = NS_number\n",
    "\n",
    "    # create NetCon object\n",
    "    nc[key]             = h.NetCon(ns[sec],Syn[sec])\n",
    "    nc[key].delay       = NC_delay\n",
    "    nc[key].weight[0]   = NC_conductance\n",
    "    nc[key].threshold   = NC_threshold"
   ]
  },
  {
   "cell_type": "code",
   "execution_count": 16,
   "metadata": {
    "collapsed": true,
    "deletable": true,
    "editable": true
   },
   "outputs": [],
   "source": [
    "def set_rand_synapse(channel_list, base_mod, max_mod, range_list=[[0.75,1.5],[0.75,1.5]]):   \n",
    "    \n",
    "    syn_fact = calc_rand_Modulation(channel_list, range_list=range_list, distribution='uniform')\n",
    "        \n",
    "    # normalize factors to max-value of pointer substrate\n",
    "    normalized_factors     = []\n",
    "    for i,mech in enumerate(channel_list):\n",
    "        \n",
    "        normalized_factors.append( (syn_fact[i] - 1) / (max_mod - base_mod)  ) \n",
    "        \n",
    "    return syn_fact, normalized_factors "
   ]
  },
  {
   "cell_type": "markdown",
   "metadata": {
    "deletable": true,
    "editable": true
   },
   "source": [
    "## def MSN class"
   ]
  },
  {
   "cell_type": "code",
   "execution_count": 17,
   "metadata": {
    "collapsed": false,
    "deletable": true,
    "editable": true
   },
   "outputs": [],
   "source": [
    "class MSN:\n",
    "    '''MSN class definition'''\n",
    "    def __init__(self, params=defparams, factors=None):\n",
    "        Import = h.Import3d_SWC_read()\n",
    "        Import.input(morphology + 'latest_WT-P270-20-14ak.swc')\n",
    "        imprt = h.Import3d_GUI(Import, 0)\n",
    "        imprt.instantiate(None)\n",
    "        h.define_shape()\n",
    "        # h.cao0_ca_ion = 2  # default in nrn\n",
    "        h.celsius = 35\n",
    "        self._create_sectionlists()\n",
    "        self._set_nsegs()\n",
    "        self.v_init = -80\n",
    "        for sec in self.allseclist:\n",
    "            sec.Ra = 150\n",
    "            sec.cm = 1.0\n",
    "            sec.insert('pas')\n",
    "            #sec.g_pas = 1e-5 # set using json file\n",
    "            sec.e_pas = -70 # -73\n",
    "        for sec in self.somalist:\n",
    "            sec.insert('naf')\n",
    "            sec.insert('kaf')\n",
    "            sec.insert('kas')\n",
    "            sec.insert('kdr')\n",
    "            sec.insert('kir')\n",
    "            sec.ena = 50\n",
    "            sec.ek = -85 # -90\n",
    "            sec.insert('cal12')\n",
    "            sec.insert('cal13')\n",
    "            sec.insert('car')\n",
    "            sec.insert('cadyn')\n",
    "            sec.insert('caldyn')\n",
    "            sec.insert('sk')\n",
    "            sec.insert('bk')\n",
    "            sec.insert('can')\n",
    "            #sec.kb_cadyn = 200.\n",
    "        for sec in self.axonlist:\n",
    "            sec.insert('naf')\n",
    "            #sec.insert('kaf')\n",
    "            sec.insert('kas')\n",
    "            #sec.insert('kdr')\n",
    "            #sec.insert('kir')\n",
    "            sec.ena = 50\n",
    "            sec.ek = -85 # -90\n",
    "        for sec in self.dendlist:\n",
    "            sec.insert('naf')\n",
    "            sec.insert('kaf')\n",
    "            sec.insert('kas')\n",
    "            sec.insert('kdr')\n",
    "            sec.insert('kir')\n",
    "            sec.ena = 50\n",
    "            sec.ek = -85 # -90\n",
    "            sec.insert('cal12')\n",
    "            sec.insert('cal13')\n",
    "            sec.insert('car')\n",
    "            sec.insert('cadyn')\n",
    "            sec.insert('caldyn')\n",
    "            sec.insert('sk')\n",
    "            sec.insert('bk')\n",
    "            sec.insert('cat32')\n",
    "            sec.insert('cat33')\n",
    "\n",
    "        with open(params) as file:\n",
    "            par = json.load(file)\n",
    "\n",
    "        self.distribute_channels(\"soma\", \"g_pas\", 0, 1, 0, 0, 0, float(par['g_pas_all']['Value']))\n",
    "        self.distribute_channels(\"axon\", \"g_pas\", 0, 1, 0, 0, 0, float(par['g_pas_all']['Value']))\n",
    "        self.distribute_channels(\"dend\", \"g_pas\", 0, 1, 0, 0, 0, float(par['g_pas_all']['Value']))\n",
    "\n",
    "        self.distribute_channels(\"soma\", \"gbar_naf\", 0, 1, 0, 0, 0, float(par['gbar_naf_somatic']['Value']),factors=factors)\n",
    "        self.distribute_channels(\"soma\", \"gbar_kaf\", 0, 1, 0, 0, 0, float(par['gbar_kaf_somatic']['Value']))\n",
    "        self.distribute_channels(\"soma\", \"gbar_kas\", 0, 1, 0, 0, 0, float(par['gbar_kas_somatic']['Value']))\n",
    "        self.distribute_channels(\"soma\", \"gbar_kdr\", 0, 1, 0, 0, 0, float(par['gbar_kdr_somatic']['Value']))\n",
    "        self.distribute_channels(\"soma\", \"gbar_kir\", 0, 1, 0, 0, 0, float(par['gbar_kir_somatic']['Value']))\n",
    "        self.distribute_channels(\"soma\", \"gbar_sk\", 0, 1, 0, 0, 0, float(par['gbar_sk_somatic']['Value']))\n",
    "        self.distribute_channels(\"soma\", \"gbar_bk\", 0, 1, 0, 0, 0, float(par['gbar_bk_somatic']['Value']))\n",
    "        \n",
    "        #self.distribute_channels(\"axon\", \"gbar_naf\", 0, 1, 0, 0, 0, float(par['gbar_naf_somatic']['Value']),factors=factors)\n",
    "        self.distribute_channels(\"axon\", \"gbar_naf\", 3, 1, 1.1, 30, 500, float(par['gbar_naf_axonal']['Value']),factors=factors)\n",
    "        #self.distribute_channels(\"axon\", \"gbar_naf\", 3, 1, 1.1, 20, 500, float(par['gbar_naf_axonal']['Value']))\n",
    "        #self.distribute_channels(\"dend\", \"gbar_naf\", 1, 1,  1.2, 30, -5, float(par['gbar_naf_axonal']['Value']))\n",
    "        self.distribute_channels(\"axon\", \"gbar_kas\", 0, 1, 0, 0, 0, float(par['gbar_kas_axonal']['Value']))\n",
    "        \n",
    "        self.distribute_channels(\"dend\", \"gbar_naf\", 1, 0.1, 0.9, 60.0, 10.0, float(par['gbar_naf_basal']['Value']),factors=factors)\n",
    "        self.distribute_channels(\"dend\", \"gbar_kaf\", 1, 1,  0.5, 120, -30, float(par['gbar_kaf_basal']['Value']))\n",
    "        #self.distribute_channels(\"dend\", \"gbar_naf\", 0, 1, -0.0072, 0, 0, float(par['gbar_naf_basal']['Value']))\n",
    "        #self.distribute_channels(\"dend\", \"gbar_kaf\", 0, 1,  0.0167, 0, 0, float(par['gbar_kaf_basal']['Value']))\n",
    "        self.distribute_channels(\"dend\", \"gbar_kas\", 2, 1, 9.0, 0.0, -5.0, float(par['gbar_kas_basal']['Value']))\n",
    "        self.distribute_channels(\"dend\", \"gbar_kdr\", 0, 1, 0, 0, 0, float(par['gbar_kdr_basal']['Value']))\n",
    "        self.distribute_channels(\"dend\", \"gbar_kir\", 0, 1, 0, 0, 0, float(par['gbar_kir_basal']['Value']))\n",
    "        self.distribute_channels(\"dend\", \"gbar_sk\", 0, 1, 0, 0, 0, float(par['gbar_sk_basal']['Value']))\n",
    "        self.distribute_channels(\"dend\", \"gbar_bk\", 0, 1, 0, 0, 0, float(par['gbar_bk_basal']['Value']))\n",
    "\n",
    "        self.distribute_channels(\"soma\", \"pbar_cal12\", 0, 1, 0, 0, 0, 1e-5)\n",
    "        self.distribute_channels(\"soma\", \"pbar_cal13\", 0, 1, 0, 0, 0, 1e-6)\n",
    "        self.distribute_channels(\"soma\", \"pbar_car\", 0, 1, 0, 0, 0, 1e-4)\n",
    "        self.distribute_channels(\"soma\", \"pbar_can\", 0, 1, 0, 0, 0, 3e-5)\n",
    "        #self.distribute_channels(\"soma\", \"kb_cadyn\", 0, 1, 0, 0, 0, 200.0)\n",
    "        self.distribute_channels(\"dend\", \"pbar_cal12\", 0, 1, 0, 0, 0, 1e-5)\n",
    "        self.distribute_channels(\"dend\", \"pbar_cal13\", 0, 1, 0, 0, 0, 1e-6)\n",
    "        self.distribute_channels(\"dend\", \"pbar_car\", 0, 1, 0, 0, 0, 1e-4)\n",
    "        self.distribute_channels(\"dend\", \"pbar_cat32\", 1, 0, 1.0, 70.0, -4.5, 1e-7)\n",
    "        self.distribute_channels(\"dend\", \"pbar_cat33\", 1, 0, 1.0, 70.0, -4.5, 1e-8)\n",
    "\n",
    "    def _create_sectionlists(self):\n",
    "        self.allsecnames = []\n",
    "        self.allseclist = h.SectionList()\n",
    "        for sec in h.allsec():\n",
    "            self.allsecnames.append(sec.name())\n",
    "            self.allseclist.append(sec=sec)\n",
    "        self.nsomasec = 0\n",
    "        self.somalist = h.SectionList()\n",
    "        for sec in h.allsec():\n",
    "            if sec.name().find('soma') >= 0:\n",
    "                self.somalist.append(sec=sec)\n",
    "                if self.nsomasec == 0:\n",
    "                    self.soma = sec\n",
    "                self.nsomasec += 1\n",
    "        self.axonlist = h.SectionList()\n",
    "        for sec in h.allsec():\n",
    "            if sec.name().find('axon') >= 0:\n",
    "                self.axonlist.append(sec=sec)\n",
    "        self.dendlist = h.SectionList()\n",
    "        for sec in h.allsec():\n",
    "            if sec.name().find('dend') >= 0:\n",
    "                self.dendlist.append(sec=sec)\n",
    "\n",
    "    def _set_nsegs(self):\n",
    "        for sec in self.allseclist:\n",
    "            sec.nseg = 2*int(sec.L/40.0)+1\n",
    "        for sec in self.axonlist:\n",
    "            sec.nseg = 2  # two segments in axon initial segment\n",
    "\n",
    "    def _max_dist(self, axon_excluding=True):\n",
    "        h.distance(sec=self.soma)\n",
    "        dmax = 0\n",
    "        for sec in self.allseclist:\n",
    "            if axon_excluding and sec.name().find('axon') == 0: continue\n",
    "            dmax = max(dmax, h.distance(1, sec=sec))\n",
    "        return dmax\n",
    "\n",
    "    def distribute_channels(self, as1, as2, d3, a4, a5, a6, a7, g8, factors=None):\n",
    "        h.distance(sec=self.soma)\n",
    "        dmax = self._max_dist()\n",
    "        for sec in self.allseclist:\n",
    "            if sec.name().find(as1) >= 0:\n",
    "                for seg in sec:\n",
    "                    dist = h.distance(seg.x, sec=sec)\n",
    "                    val = calculate_distribution(d3, dist, a4, a5, a6, a7, g8)\n",
    "                    cmd = 'seg.%s = %g' % (as2, val)\n",
    "                    exec(cmd)"
   ]
  },
  {
   "cell_type": "markdown",
   "metadata": {
    "deletable": true,
    "editable": true
   },
   "source": [
    "## main function"
   ]
  },
  {
   "cell_type": "code",
   "execution_count": 18,
   "metadata": {
    "collapsed": false,
    "deletable": true,
    "editable": true
   },
   "outputs": [],
   "source": [
    "def main(par=\"./params-msn.json\", \\\n",
    "                            sim='vm',       \\\n",
    "                            amp=0.265,      \\\n",
    "                            run=None,       \\\n",
    "                            modulation=1,   \\\n",
    "                            simDur=7000,    \\\n",
    "                            stimDur=900,    \\\n",
    "                            factors=None,   \\\n",
    "                            section=None,   \\\n",
    "                            randMod=None,   \\\n",
    "                            testMode=False, \\\n",
    "                            target=None,    \\\n",
    "                            chan2mod=['naf', 'kas', 'kaf', 'kir', 'cal12', 'cal13', 'can'] ): \n",
    "    \n",
    "    \n",
    "    \n",
    "    print(locals())\n",
    "    \n",
    "    # initiate cell\n",
    "    cell = MSN(params=par, factors=factors)\n",
    "        \n",
    "    # set cascade ---- move to MSN def?\n",
    "    casc = h.D1_LTP_time_window_0(0.5, sec=cell.soma) # other cascades also possible...\n",
    "    \n",
    "    if target:\n",
    "        cmd = 'pointer = casc._ref_'+target\n",
    "        exec(cmd)\n",
    "        \n",
    "        base_mod    = SUBSTRATES[target][0]\n",
    "        max_mod     = SUBSTRATES[target][1]\n",
    "        \n",
    "    else:\n",
    "        pointer     = casc._ref_Target1p    #Target1p   #totalActivePKA    (if full cascade used)\n",
    "        base_mod    = casc.init_Target1p\n",
    "        max_mod     = 2317.1\n",
    "    \n",
    "    # set edge of soma as reference for distance \n",
    "    h.distance(1, sec=h.soma[0])\n",
    "    \n",
    "    # set current injection\n",
    "    stim = h.IClamp(0.5, sec=cell.soma)\n",
    "    stim.amp = amp  \n",
    "    stim.delay = 100\n",
    "    stim.dur = stimDur            # 2ms 2nA to elicit single AP, following Day et al 2008 Ca dyn    \n",
    "    \n",
    "    # record vectors\n",
    "    tm = h.Vector()\n",
    "    tm.record(h._ref_t)\n",
    "    vm = h.Vector()\n",
    "    vm.record(cell.soma(0.5)._ref_v)\n",
    "    \n",
    "    # substrates\n",
    "    pka = h.Vector()\n",
    "    pka.record(casc._ref_Target1p)\n",
    "    camp = h.Vector()\n",
    "    camp.record(casc._ref_cAMP)\n",
    "    gprot = h.Vector()\n",
    "    gprot.record(casc._ref_D1RDAGolf) #D1RDAGolf\n",
    "    gbg   = h.Vector()\n",
    "    gbg.record(casc._ref_Gbgolf) #Gbgolf\n",
    "    da = h.Vector()\n",
    "    da.record(casc._ref_DA)\n",
    "    \n",
    "    # peak n dipp parameters\n",
    "    da_peak   = 500   # concentration [nM]\n",
    "    da_tstart = 1000    # stimulation time [ms]\n",
    "    da_tau    = 500    # time constant [ms]\n",
    "    \n",
    "    \n",
    "    tstop = simDur               # [ms]\n",
    "    \n",
    "    \n",
    "    # all channels to modulate\n",
    "    mod_list = ['naf', 'kas', 'kaf', 'kir', 'cal12', 'cal13', 'can' ]\n",
    "    \n",
    "    \n",
    "    not2mod = [] #['kaf']\n",
    "    \n",
    "    \n",
    "    # find channels that should not be modulated\n",
    "    for chan in mod_list:\n",
    "        \n",
    "        if chan not in chan2mod:\n",
    "            \n",
    "            not2mod.append(chan)\n",
    "    \n",
    "    \n",
    "    # for random modulation: modValues = np.arange(0.1, 2.0, 0.1) -------------------------\n",
    "    if randMod == 1:\n",
    "        \n",
    "        # new factors every run\n",
    "        mod_fact = calc_rand_Modulation(mod_list, range_list=[[0.60,0.80],    \\\n",
    "                                                              [0.65,0.85],  \\\n",
    "                                                              [0.75,0.85],  \\\n",
    "                                                              [0.85,1.25],  \\\n",
    "                                                              [1.0,2.0],    \\\n",
    "                                                              [1.0,2.0],    \\\n",
    "                                                              [0.0,1.0]],\n",
    "                                                              distribution='uniform'  )\n",
    "        \n",
    "    else:\n",
    "        mod_fact = [ 0.8, 0.8, 0.8, 1.25, 2.0, 2.0, 0.5  ]\n",
    "    \n",
    "    print()\n",
    "    print('--- Intrinsic modulation factors ---')\n",
    "    print(chan2mod)\n",
    "    print(mod_fact)\n",
    "    \n",
    "    # normalize factors to  target values seen in simulation\n",
    "    factors     = []\n",
    "    for i,mech in enumerate(mod_list):\n",
    "        \n",
    "        factor  = (mod_fact[i] - 1) / (max_mod - base_mod) #2317.1\n",
    "        \n",
    "        factors.append(factor)\n",
    "        \n",
    "        #print(mech, mod_fact[i], factor) # --------------------------------------------------------\n",
    "            \n",
    "    \n",
    "    # set pointers \n",
    "    for sec in h.allsec():\n",
    "        \n",
    "        for seg in sec:\n",
    "            \n",
    "            # naf and kas is in all sections\n",
    "            h.setpointer(pointer, 'pka', seg.kas )\n",
    "            h.setpointer(pointer, 'pka', seg.naf )\n",
    "            \n",
    "            if sec.name().find('axon') < 0:    \n",
    "                \n",
    "                # these channels are not in the axon sections\n",
    "                \n",
    "                h.setpointer(pointer, 'pka', seg.kaf )\n",
    "                h.setpointer(pointer, 'pka', seg.cal12 )\n",
    "                h.setpointer(pointer, 'pka', seg.cal13 )\n",
    "                h.setpointer(pointer, 'pka', seg.kir )\n",
    "                #h.setpointer(pointerc, 'pka', seg.car )\n",
    "                \n",
    "                if sec.name().find('soma') >= 0:\n",
    "                    \n",
    "                    # can is only distributed to the soma section\n",
    "                    h.setpointer(pointer, 'pka', seg.can )\n",
    "                    \n",
    "                    \n",
    "    \n",
    "    # synaptic modulation ================================================================\n",
    "    if sim == 'synMod':\n",
    "        \n",
    "        \n",
    "        # draw random modulation factors (intervals given by range_list[[min,max]]  \n",
    "        glut_f, glut_f_norm     = set_rand_synapse(['amp', 'nmd'], base_mod, max_mod,   \\\n",
    "                                                    range_list=[[0.9,1.6], [0.9,1.6]]   )\n",
    "                                                    \n",
    "        gaba_f, gaba_f_norm     = set_rand_synapse(['gab'],        base_mod, max_mod,   \\\n",
    "                                                    range_list=[[0.6,1.4]]              )\n",
    "        \n",
    "        syn_fact = glut_f + gaba_f\n",
    "        \n",
    "        print()\n",
    "        print('--- Synaptic factors ----')\n",
    "        print(['amp', 'nmd']+['gab'])\n",
    "        print(syn_fact)\n",
    "            \n",
    "        I_d={}\n",
    "        \n",
    "        ns = {}\n",
    "        nc = {}\n",
    "        Syn = {}\n",
    "        for sec in h.allsec():\n",
    "            if sec.name().find('dend') >= 0:\n",
    "                \n",
    "                # create a glut synapse\n",
    "                make_random_synapse(ns, nc, Syn, sec, 0.5,          \\\n",
    "                                        NS_interval=1000.0/17.0,    \\\n",
    "                                        NC_conductance=0.15e-3,     \\\n",
    "                                        S_tau_dep=100               )\n",
    "                                        \n",
    "                # create a gaba synapse\n",
    "                make_random_synapse(ns, nc, Syn, sec, 0.0,          \\\n",
    "                                        Type='tmgabaa',             \\\n",
    "                                        NS_interval=1000.0/4.0,     \\\n",
    "                                        NC_conductance=0.45e-3      )\n",
    "                \n",
    "                # set pointer(s)\n",
    "                h.setpointer(pointer, 'pka', Syn[sec])\n",
    "                h.setpointer(pointer, 'pka', Syn[sec.name()+'_gaba'])\n",
    "                \n",
    "                # set (random?) modulation\n",
    "                Syn[sec].base    = base_mod\n",
    "                \n",
    "                #randMod?\n",
    "                if randMod == 1:\n",
    "                    Syn[sec].f_ampa     = glut_f_norm[0]\n",
    "                    Syn[sec].f_nmda     = glut_f_norm[1]\n",
    "                else:\n",
    "                    Syn[sec].f_ampa     = 0\n",
    "                    Syn[sec].f_nmda     = 0\n",
    "                \n",
    "                if randMod == 1:\n",
    "                    Syn[sec.name()+'_gaba'].base    = base_mod\n",
    "                    Syn[sec.name()+'_gaba'].f_gaba  = gaba_f_norm[0]\n",
    "                else:\n",
    "                    Syn[sec.name()+'_gaba'].f_gaba  = 0\n",
    "            \n",
    "            \n",
    "            elif sec.name().find('axon') >= 0: \n",
    "                continue   \n",
    "            \n",
    "            if randMod == 1:\n",
    "                for seg in sec:\n",
    "                    \n",
    "                    for mech in seg:\n",
    "                        \n",
    "                        if mech.name() in not2mod:\n",
    "                            \n",
    "                            mech.factor = 0.0\n",
    "                            print(mech.name(), 'and channel:', not2mod, mech.factor, sec.name())\n",
    "                            \n",
    "                        elif mech.name() in mod_list:\n",
    "                        \n",
    "                            mech.base       = base_mod\n",
    "                            index           = mod_list.index( mech.name() )\n",
    "                            mech.factor     = factors[index]\n",
    "                    \n",
    "                    \n",
    "                    \n",
    "                    \n",
    "    \n",
    "    # solver------------------------------------------------------------------------------            \n",
    "    cvode = h.CVode()\n",
    "    \n",
    "    h.finitialize(cell.v_init)\n",
    "    \n",
    "    # run simulation\n",
    "    while h.t < tstop:\n",
    "    \n",
    "        if modulation == 1:\n",
    "        \n",
    "            if h.t > da_tstart: \n",
    "                \n",
    "                # set DA and ACh values (using alpha function)\n",
    "                casc.DA = alpha(da_tstart, da_peak, da_tau) \n",
    "                #casc.ACh = ach_base - alpha(ach_tstart, ach_base, ach_tau)\n",
    "                \n",
    "        h.fadvance()\n",
    "        \n",
    "    # plot result --------------------------------------------------------------------------------\n",
    "    try:\n",
    "        import matplotlib.pyplot as plt\n",
    "\n",
    "        # fig 1\n",
    "        plt.plot(tm, vm)         \n",
    "\n",
    "        # fig 2\n",
    "        plt.figure()\n",
    "        plt.plot(tm, np.divide(da,max(da)))\n",
    "        plt.plot(tm, np.divide(gprot,max(gprot)))\n",
    "        plt.plot(tm, np.divide(gbg,max(gbg)))\n",
    "        plt.plot(tm, np.divide(camp,max(camp)))\n",
    "        plt.plot(tm, np.divide(pka,max(pka))) \n",
    "        plt.legend(['da', 'gprot', 'gbg', 'camp', 'pka'], loc='best')\n",
    "\n",
    "        plt.show()\n",
    "\n",
    "    except ImportError:\n",
    "        print('no matplotlib available')\n",
    "        \n",
    "        "
   ]
  },
  {
   "cell_type": "markdown",
   "metadata": {
    "deletable": true,
    "editable": true
   },
   "source": [
    "## Run simulation"
   ]
  },
  {
   "cell_type": "code",
   "execution_count": 19,
   "metadata": {
    "collapsed": false,
    "deletable": true,
    "editable": true
   },
   "outputs": [
    {
     "name": "stdout",
     "output_type": "stream",
     "text": [
      "{'par': './params-rob.json', 'run': None, 'target': 'Target1p', 'factors': None, 'modulation': 1, 'section': None, 'stimDur': 3000, 'chan2mod': ['naf', 'kas', 'kaf', 'kir', 'cal12', 'cal13', 'can'], 'simDur': 2000, 'testMode': False, 'randMod': 1, 'amp': 0.0, 'sim': 'synMod'}\n",
      "\n",
      "--- Intrinsic modulation factors ---\n",
      "['naf', 'kas', 'kaf', 'kir', 'cal12', 'cal13', 'can']\n",
      "[0.7767973730786708, 0.7301964162923315, 0.7525022527998952, 0.8652262814994733, 1.3064871683755204, 1.2313680332396997, 0.20685330244859668]\n",
      "\n",
      "--- Synaptic factors ----\n",
      "['amp', 'nmd', 'gab']\n",
      "[1.452231099657812, 1.0590033190739863, 0.765033362085102]\n"
     ]
    },
    {
     "data": {
      "image/png": "[encoded data removed]",
      "text/plain": [
       "<matplotlib.figure.Figure at 0x7f1d5247e190>"
      ]
     },
     "metadata": {},
     "output_type": "display_data"
    },
    {
     "data": {
      "image/png": "[encoded data removed]",
      "text/plain": [
       "<matplotlib.figure.Figure at 0x7f1d445a6450>"
      ]
     },
     "metadata": {},
     "output_type": "display_data"
    }
   ],
   "source": [
    "main( par=\"./params-rob.json\",          \\\n",
    "            amp=0.0,                    \\\n",
    "            simDur=2000,                \\\n",
    "            stimDur=3000,               \\\n",
    "            sim='synMod',               \\\n",
    "            modulation=1,               \\\n",
    "            randMod=1,                  \\\n",
    "            target='Target1p')\n"
   ]
  }
 ],
 "metadata": {
  "kernelspec": {
   "display_name": "Python 2",
   "language": "python",
   "name": "python2"
  },
  "language_info": {
   "codemirror_mode": {
    "name": "ipython",
    "version": 2
   },
   "file_extension": ".py",
   "mimetype": "text/x-python",
   "name": "python",
   "nbconvert_exporter": "python",
   "pygments_lexer": "ipython2",
   "version": "2.7.12"
  }
 },
 "nbformat": 4,
 "nbformat_minor": 2
}
